{
 "cells": [
  {
   "cell_type": "markdown",
   "metadata": {},
   "source": [
    "# Modelling a Support Vector Machine\n",
    "\n",
    "In this notebook, a basic version of an SVM is implemented. This is only for understanding the inner working of the classifier. By no means is this implementation optimized enough to be applied on a large scale."
   ]
  },
  {
   "cell_type": "markdown",
   "metadata": {},
   "source": [
    "# SVM\n",
    "An SVM model is a representation of the data as points in space, mapped so that the instances of the separate categories are divided by a clear gap that is as wide as possible. In other words, an SVM is a Large Margin Classifier."
   ]
  },
  {
   "cell_type": "code",
   "execution_count": 3,
   "metadata": {
    "collapsed": true
   },
   "outputs": [],
   "source": [
    "import matplotlib.pyplot as plt\n",
    "from matplotlib import style\n",
    "import numpy as np\n",
    "style.use('ggplot')"
   ]
  },
  {
   "cell_type": "markdown",
   "metadata": {},
   "source": [
    "**SVM CLASS** It is useful to model an SVM as an object because training an SVM is a computationally expensive task. Therefore, in order to not retrain for every new test data, we build an object. Once trained, the classifier is very quick at predicting the label of new data.\n",
    "\n",
    "It is recommended to go through more comprehensive resources for understanding the crux of the SVM problem.\n",
    "SVM Training is a Convex Optimization Problem. As we have already stated, the model attempts to find out the hyperplane causing maximum separation of the classes. Thus, minimizing the margin, when stated mathematically, is a Convex Opt. problem."
   ]
  },
  {
   "cell_type": "code",
   "execution_count": 4,
   "metadata": {
    "collapsed": true
   },
   "outputs": [],
   "source": [
    "class Support_Vector_Machine:\n",
    "    # initializing the svm class object\n",
    "    def __init__(self,visualization=True):\n",
    "        # visualization (bool): whether or not the user wants to visually see the decision boundary hyperplane\n",
    "        # colors : Setting the colors of different classes. Red for positive class. Blue for negative class.        \n",
    "        \n",
    "        self.visualization = visualization\n",
    "        self.colors = {1:'r',-1:'b'}\n",
    "        if self.visualization:\n",
    "            self.fig = plt.figure()\n",
    "            self.ax = self.fig.add_subplot(1,1,1)\n",
    "    \n",
    "    #train\n",
    "    def fit(self,data):\n",
    "        # data (dict): input datapoints([x0,x1]) with attached class label (1 or -1)\n",
    "        \n",
    "        self.data = data\n",
    "        \n",
    "        # opt_dict stores the possible [w,b] values for a given magnitude for w \n",
    "        # {||w|| : [w,b] }\n",
    "        opt_dict = {}\n",
    "        \n",
    "        # these transforms when applied to w yield same magnitude but possibly lower value of cost function\n",
    "        transforms = [[1,1],\n",
    "                      [-1,1],\n",
    "                      [-1,-1],\n",
    "                      [1,-1]]\n",
    "        \n",
    "        # getting the maximum and the minimum feature value from the given dataset\n",
    "        all_data = []\n",
    "        for yi in self.data:\n",
    "            for featureset in self.data[yi]:\n",
    "                for feature in featureset:\n",
    "                    all_data.append(feature)\n",
    "                   \n",
    "        self.max_feature_value = max(all_data)\n",
    "        self.min_feature_value = min(all_data)\n",
    "        all_data = None\n",
    "        \n",
    "        # step sizes to be taken while optimizing the cost function\n",
    "        step_sizes = [self.max_feature_value * 0.1,\n",
    "                      self.max_feature_value * 0.01,\n",
    "                      self.max_feature_value * 0.001,]\n",
    "        \n",
    "\n",
    "        b_range_multiple = 5\n",
    "        # we dont need to take as small steps with b as with w\n",
    "        b_multiple = 5\n",
    "        \n",
    "        # latest_optimum stores the most recent value of the cost function while optimization\n",
    "        # start with a high value\n",
    "        latest_optimum = self.max_feature_value * 10\n",
    "        \n",
    "        \n",
    "        # Convex Optimization Loop\n",
    "        for step in step_sizes:\n",
    "            # initialize w for the iteration with the latest optimimum value\n",
    "            w = np.array([latest_optimum,latest_optimum])\n",
    "            \n",
    "            # we can do this because convex\n",
    "            optimized = False\n",
    "            \n",
    "            while not optimized:\n",
    "                # Looping over values of b\n",
    "                for b in np.arange(-1*(self.max_feature_value*b_range_multiple),\n",
    "                                  self.max_feature_value*b_range_multiple, \n",
    "                                  step*b_multiple):\n",
    "                    \n",
    "                    # Consider each transformed value of w as w_t\n",
    "                    for transformation in transforms:\n",
    "                        w_t = w*transformation\n",
    "                        found_option = True\n",
    "                        \n",
    "                        # checking if the dataset satisfies the found combination of w_t and b \n",
    "                        for i in self.data:\n",
    "                            for xi in self.data[i]:\n",
    "                                yi = i\n",
    "                                \n",
    "                                # the training datapoints must lie outside the SV margins \n",
    "                                if not yi*(np.dot(w_t,xi)+b) >= 1:\n",
    "                                    found_option = False\n",
    "                         \n",
    "                        # if valid combination is found, store it\n",
    "                        if found_option:\n",
    "                            opt_dict[np.linalg.norm(w_t)] = [w_t,b]\n",
    "                \n",
    "                # check if we jumped over the minima\n",
    "                if w[0]<0:\n",
    "                    optimized = True\n",
    "                    print('Optimized a step.')\n",
    "                else:\n",
    "                    w = w - step\n",
    "            \n",
    "            # optimized for this step size\n",
    "            # assign the most optimum values obtained for w and b\n",
    "            norms = sorted([n for n in opt_dict])\n",
    "            opt_choice = opt_dict[norms[0]]\n",
    "            self.w = opt_choice[0]\n",
    "            self.b = opt_choice[1]\n",
    "            latest_optimum = opt_choice[0][0] + step*2\n",
    "        \n",
    "    # predict a test point   \n",
    "    def predict(self,features):\n",
    "        # sign(x.w+b) decides the class of the test datapoint\n",
    "        classification = np.sign(np.dot(np.array(features),self.w)+self.b)\n",
    "        \n",
    "        # if the user wishes to view the svm then plot the test points\n",
    "        if classification != 0  and self.visualization:\n",
    "            self.ax.scatter(features[0],features[1],s=200,marker='*',c=self.colors[classification])\n",
    "        return classification\n",
    "    \n",
    "    \n",
    "    # to visually see the SVM in action\n",
    "    def visualize(self):\n",
    "        # plot the training datapoints\n",
    "        [[self.ax.scatter(x[0],x[1],s=100,color=self.colors[i]) for x in data_dict[i]] for i in data_dict]\n",
    "        \n",
    "        # hyperplane = x.w + b\n",
    "        # v = x.w + b\n",
    "        # values of v for:\n",
    "        # psv = 1\n",
    "        # nsv = -1\n",
    "        # dec = 0\n",
    "        \n",
    "        # returns the y-coordinate(x1) for plotting the point with x0 abcissa\n",
    "        def hyperplane(x,w,b,v):\n",
    "            return (-w[0]*x-b+v)/w[1]\n",
    "        \n",
    "        datarange = (self.min_feature_value*0.9,self.max_feature_value*1.1)\n",
    "        hyp_x_min = datarange[0]\n",
    "        hyp_x_max = datarange[1]\n",
    "        \n",
    "        # (w.x+b) = 1\n",
    "        # positive support vector hyperplane\n",
    "        psv1 = hyperplane(hyp_x_min,self.w,self.b,1)\n",
    "        psv2 = hyperplane(hyp_x_max,self.w,self.b,1)\n",
    "        self.ax.plot([hyp_x_min,hyp_x_max],[psv1,psv2],'k')\n",
    "        \n",
    "        # (w.x+b) = -1\n",
    "        # negative support vector hyperplane\n",
    "        nsv1 = hyperplane(hyp_x_min,self.w,self.b,-1)\n",
    "        nsv2 = hyperplane(hyp_x_max,self.w,self.b,-1)\n",
    "        self.ax.plot([hyp_x_min,hyp_x_max],[nsv1,nsv2],'k')\n",
    "        \n",
    "        # (w.x+b) = 0\n",
    "        # decision boundary hyperplane\n",
    "        db1 = hyperplane(hyp_x_min,self.w,self.b,0)\n",
    "        db2 = hyperplane(hyp_x_max,self.w,self.b,0)\n",
    "        self.ax.plot([hyp_x_min,hyp_x_max],[db1,db2],'y--')\n",
    "        \n",
    "        plt.show()"
   ]
  },
  {
   "cell_type": "code",
   "execution_count": 5,
   "metadata": {},
   "outputs": [],
   "source": [
    "# input dataset\n",
    "data_dict = {\n",
    "    -1: np.array([[1,7],\n",
    "                  [2,8],\n",
    "                  [3,8]]),\n",
    "    1: np.array([[5,1],\n",
    "                 [6,-1],\n",
    "                 [7,3]])\n",
    "}"
   ]
  },
  {
   "cell_type": "code",
   "execution_count": 6,
   "metadata": {},
   "outputs": [
    {
     "name": "stdout",
     "output_type": "stream",
     "text": [
      "Optimized a step.\n",
      "Optimized a step.\n",
      "Optimized a step.\n"
     ]
    }
   ],
   "source": [
    "# train the model\n",
    "svm = Support_Vector_Machine()\n",
    "svm.fit(data=data_dict)"
   ]
  },
  {
   "cell_type": "code",
   "execution_count": 7,
   "metadata": {},
   "outputs": [
    {
     "data": {
      "image/png": "[encoded data removed]",
      "text/plain": [
       "<matplotlib.figure.Figure at 0x7f16d4dcbcf8>"
      ]
     },
     "metadata": {},
     "output_type": "display_data"
    }
   ],
   "source": [
    "# predicting new unseen data\n",
    "predict_us = [[0,10],\n",
    "             [1,3],\n",
    "             [3,4],\n",
    "             [3,5],\n",
    "             [5,5],\n",
    "             [5,6],\n",
    "             [6,-5],\n",
    "             [5,8]]\n",
    "\n",
    "for p in predict_us:\n",
    "    svm.predict(p)\n",
    "    \n",
    "svm.visualize()    "
   ]
  }
 ],
 "metadata": {
  "kernelspec": {
   "display_name": "Python 3",
   "language": "python",
   "name": "python3"
  },
  "language_info": {
   "codemirror_mode": {
    "name": "ipython",
    "version": 3
   },
   "file_extension": ".py",
   "mimetype": "text/x-python",
   "name": "python",
   "nbconvert_exporter": "python",
   "pygments_lexer": "ipython3",
   "version": "3.6.1"
  }
 },
 "nbformat": 4,
 "nbformat_minor": 2
}
